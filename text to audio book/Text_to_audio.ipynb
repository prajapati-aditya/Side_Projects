{
 "cells": [
  {
   "cell_type": "code",
   "execution_count": 4,
   "id": "d6bce897-2453-4ee0-acc6-f81788c124db",
   "metadata": {},
   "outputs": [],
   "source": [
    "  \n",
    "import sys\n",
    "import subprocess\n",
    "subprocess.check_call([sys.executable, '-m', 'pip', 'install', 'gtts'])\n",
    "\n",
    "import time\n",
    "\n",
    "from gtts import gTTS\n",
    "\n",
    "import os "
   ]
  },
  {
   "cell_type": "code",
   "execution_count": 3,
   "id": "6f58472f-5c36-4b7a-b71a-2399f6bf9e22",
   "metadata": {},
   "outputs": [
    {
     "name": "stdout",
     "output_type": "stream",
     "text": [
      "Audio book saved as output_audiobook.mp3\n"
     ]
    },
    {
     "data": {
      "text/plain": [
       "0"
      ]
     },
     "execution_count": 3,
     "metadata": {},
     "output_type": "execute_result"
    }
   ],
   "source": [
    "def create_audiobook(text_file, output_audio): \n",
    "    with open (text_file, 'r', encoding ='utf-8') as file : \n",
    "        text = file.read() \n",
    "    tts= gTTS(text= text, lang='en')\n",
    "    tts.save(output_audio)\n",
    "    print(f\"Audio book saved as {output_audio}\")\n",
    "\n",
    "# giving inputs \n",
    "text_file = \"input.txt\"\n",
    "output_audio = \"output_audiobook.mp3\"\n",
    "\n",
    "# call the function \n",
    "create_audiobook(text_file,output_audio)\n",
    "os.system(f\"start {output_audio}\")\n",
    "    "
   ]
  },
  {
   "cell_type": "code",
   "execution_count": null,
   "id": "5123df70-c1cd-4580-b8a0-ed048fbaa9de",
   "metadata": {},
   "outputs": [],
   "source": []
  }
 ],
 "metadata": {
  "kernelspec": {
   "display_name": "Python [conda env:base] *",
   "language": "python",
   "name": "conda-base-py"
  },
  "language_info": {
   "codemirror_mode": {
    "name": "ipython",
    "version": 3
   },
   "file_extension": ".py",
   "mimetype": "text/x-python",
   "name": "python",
   "nbconvert_exporter": "python",
   "pygments_lexer": "ipython3",
   "version": "3.12.7"
  }
 },
 "nbformat": 4,
 "nbformat_minor": 5
}
